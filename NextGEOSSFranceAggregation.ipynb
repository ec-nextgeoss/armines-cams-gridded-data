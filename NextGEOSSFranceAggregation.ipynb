{
 "cells": [
  {
   "cell_type": "markdown",
   "metadata": {},
   "source": [
    "# Exploit the information to support decision making (README)"
   ]
  },
  {
   "cell_type": "markdown",
   "metadata": {},
   "source": [
    "**In this section we aim at illustrating the value added of gridded data time-series of solar irradiation vs single point time-series of solar irradiation.**\n",
    "#### Comparison with NUTS-3-region-wise average and geometrical AOI (Areal Of Interest)\n",
    "* Demonstrate with this example the lack of representativeness of point-wise solar resource assessment for an extended region such as the NUT 3 region and for geometrical AOI.\n",
    "\n",
    "**Gridded solar ressource assessment is required to provide representative spatially aggregated profiles !!!**"
   ]
  },
  {
   "cell_type": "code",
   "execution_count": null,
   "metadata": {
    "ExecuteTime": {
     "end_time": "2019-01-17T15:01:35.891892Z",
     "start_time": "2019-01-17T15:01:35.319768Z"
    },
    "scrolled": false
   },
   "outputs": [],
   "source": [
    "import numpy as np\n",
    "\n",
    "import matplotlib.pyplot as plt\n",
    "%matplotlib inline\n",
    "\n",
    "import cartopy.crs as ccrs\n",
    "import cartopy.feature as cfeature\n",
    "from cartopy.feature import NaturalEarthFeature, COLORS\n",
    "\n",
    "import geopandas as gpd\n",
    "import pandas as pd\n",
    "from shapely.geometry import Point\n",
    "from shapely.geometry import Polygon\n",
    "\n",
    "\n",
    "import h5py\n"
   ]
  },
  {
   "cell_type": "markdown",
   "metadata": {},
   "source": [
    "# Upload and prepare data\n",
    "\n",
    "We assume that the data have already been downloaded using the WPS service. For details on that part, see [URL].\n",
    "In our case we loading data over France. \n",
    "\n",
    "To cross our data with existing maps and borders, we use the python libraries geopandas and shapely. "
   ]
  },
  {
   "cell_type": "code",
   "execution_count": null,
   "metadata": {
    "ExecuteTime": {
     "end_time": "2019-01-17T15:33:56.329899Z",
     "start_time": "2019-01-17T15:33:55.460224Z"
    }
   },
   "outputs": [],
   "source": [
    "# First, transform hdf5 in geodata\n",
    "\n",
    "with h5py.File('NextGEOSS_CAMS_output.nc', 'r') as hf:\n",
    "\n",
    "    # We need the lat/lon of each pixel\n",
    "    # The lat lon are stored as array in the hfd file, they must thus be transformed into 2D matrices:\n",
    "    my_lat = hf['lat'][:]\n",
    "    my_lon = hf['lon'][:]\n",
    "    \n",
    "    width = len(my_lon)\n",
    "    height = len(my_lat)\n",
    "    count = len(hf['time'])\n",
    "\n",
    "    my_lat = np.transpose(np.stack([my_lat]*width))\n",
    "    my_lon = np.stack([my_lon]*height)\n",
    "\n",
    "    # We build a geodataframe containing location information for each pixel on the image:\n",
    "    my_gpd = gpd.GeoDataFrame()\n",
    "    my_gpd['Coordinates'] = list(zip(my_lon.flatten(), my_lat.flatten()))\n",
    "    my_gpd['geometry'] = my_gpd['Coordinates'].apply(Point)\n",
    "    my_gpd.crs = {'init' :'epsg:4326'}\n",
    "    my_gpd.head()\n",
    "\n",
    "    # A (regular, pandas) DataFrame is then build. \n",
    "    # Each column corresponds to one of the pixel referenced in the GeoDataFrame defined previously.\n",
    "    # The column name correponds to the pixel's coordinates.\n",
    "    my_tsdf = pd.DataFrame(hf['GHI'][:].reshape(count,width*height),index=range(count))\n",
    "    my_tsdf.columns=my_gpd.Coordinates\n",
    "    my_tsdf = my_tsdf.fillna(0)\n"
   ]
  },
  {
   "cell_type": "code",
   "execution_count": null,
   "metadata": {
    "ExecuteTime": {
     "end_time": "2019-01-17T15:33:56.336587Z",
     "start_time": "2019-01-17T15:33:56.332002Z"
    }
   },
   "outputs": [],
   "source": [
    "# The following function allows the retrieval of a single time stamp over the whole area\n",
    "my_geom = my_gpd.geometry\n",
    "def get_frame_df(t):\n",
    "    plot_gpd = gpd.GeoDataFrame(my_tsdf.loc[t].transpose())\n",
    "    plot_gpd.columns = ['GHI']\n",
    "    plot_gpd = plot_gpd.reset_index()\n",
    "    plot_gpd['geometry'] = my_geom\n",
    "    return(plot_gpd)\n"
   ]
  },
  {
   "cell_type": "markdown",
   "metadata": {
    "ExecuteTime": {
     "end_time": "2019-01-17T14:55:35.686869Z",
     "start_time": "2019-01-17T14:55:35.684080Z"
    }
   },
   "source": [
    "# Usecase 1: administrative area of interest"
   ]
  },
  {
   "cell_type": "code",
   "execution_count": null,
   "metadata": {
    "ExecuteTime": {
     "end_time": "2019-01-17T15:01:37.848672Z",
     "start_time": "2019-01-17T15:01:36.877602Z"
    }
   },
   "outputs": [],
   "source": [
    "# Load France adminstrative border\n",
    "laFrance = gpd.read_file('GeoData/DEPARTEMENT_METROPOLE.geojson')\n",
    "laFrance = laFrance.to_crs({'init' :'epsg:4326'})\n",
    "#laFrance.head()\n",
    "\n",
    "# Extract the shape of Herault from file:\n",
    "my_dpt = laFrance[laFrance.NOM_DEPT=='HERAULT']"
   ]
  },
  {
   "cell_type": "code",
   "execution_count": null,
   "metadata": {
    "ExecuteTime": {
     "end_time": "2019-01-17T15:01:50.271612Z",
     "start_time": "2019-01-17T15:01:37.850843Z"
    }
   },
   "outputs": [],
   "source": [
    "\n",
    "# Plot shape on top of our data:\n",
    "## We use our data as base for our plot:\n",
    "frame_to_plot = get_frame_df(45)\n",
    "base = frame_to_plot.plot( column='GHI',figsize=(12,12))\n",
    "base.set_xlabel(\"longitude\")\n",
    "base.set_ylabel(\"latitude\")\n",
    "\n",
    "## Add French borders to the plot:\n",
    "laFrance.boundary.plot(ax=base,color='black',lw=1)\n",
    "#base.set_ylim(lat_min, lat_max)\n",
    "#base.set_xlim(lon_min, lon_max)\n",
    "\n",
    "\n",
    "\n",
    "## Plot department and its center\n",
    "my_dpt.plot(ax=base,color='blue',lw=2)\n",
    "my_dpt.centroid.plot(ax=base,color='red')\n"
   ]
  },
  {
   "cell_type": "markdown",
   "metadata": {},
   "source": [
    "## Extract data and compare resources"
   ]
  },
  {
   "cell_type": "code",
   "execution_count": null,
   "metadata": {
    "ExecuteTime": {
     "end_time": "2019-01-17T15:08:45.990138Z",
     "start_time": "2019-01-17T15:08:18.498216Z"
    }
   },
   "outputs": [],
   "source": [
    "# Resource for Herault:\n",
    "herault_intersection = my_gpd.within(my_dpt.geometry.iloc[0])\n",
    "herault_ts = my_tsdf.loc[:,my_gpd[herault_intersection].Coordinates].mean(axis=1)\n",
    "\n",
    "# Resource for its center:\n",
    "distance = my_gpd.geometry.apply(lambda x: my_dpt.centroid.distance(x))\n",
    "nearest_pt = my_gpd.iloc[distance.idxmin()]\n",
    "center_ts_u1 = my_tsdf[nearest_pt.Coordinates.iloc[0]]\n",
    "\n",
    "\n",
    "\n",
    "plt.figure(figsize=(14,8))\n",
    "plt.plot(herault_ts,label='Herault')\n",
    "plt.plot(center_ts_u1,label='Cabrières centre')\n",
    "plt.xlabel('Time of the day')\n",
    "plt.ylabel('Global horizontal irradiance (W/m$^2$)')\n",
    "plt.legend()"
   ]
  },
  {
   "cell_type": "markdown",
   "metadata": {
    "heading_collapsed": true
   },
   "source": [
    "# Usecase 2: select a geometrical area of interest"
   ]
  },
  {
   "cell_type": "code",
   "execution_count": null,
   "metadata": {
    "ExecuteTime": {
     "end_time": "2019-01-17T15:02:21.105366Z",
     "start_time": "2019-01-17T15:02:21.101122Z"
    },
    "hidden": true
   },
   "outputs": [],
   "source": [
    "# Define geometrical AOI:\n",
    "p1 = Polygon([(3.7,43.4),(4,43.4),(4,43.8),(3.7,43.8)])\n",
    "myPol = gpd.GeoSeries(p1)\n",
    "myPol.crs = {'init' :'epsg:4326'}"
   ]
  },
  {
   "cell_type": "code",
   "execution_count": null,
   "metadata": {
    "ExecuteTime": {
     "end_time": "2019-01-17T15:02:33.858036Z",
     "start_time": "2019-01-17T15:02:21.107470Z"
    },
    "hidden": true
   },
   "outputs": [],
   "source": [
    "# Plot shape on top of our data:\n",
    "## We use our data as base for our plot:\n",
    "frame_to_plot = get_frame_df(45)\n",
    "base = frame_to_plot.plot( column='GHI',figsize=(12,12))\n",
    "base.set_xlabel(\"longitude\")\n",
    "base.set_ylabel(\"latitude\")\n",
    "\n",
    "## Add French borders to the plot:\n",
    "laFrance.boundary.plot(ax=base,color='black',lw=1)\n",
    "# base.set_ylim(lat_min, lat_max)\n",
    "# base.set_xlim(lon_min, lon_max)\n",
    "\n",
    "## Plot our polygon and its center\n",
    "myPol.plot(ax=base,color='blue')\n",
    "myPol.centroid.plot(ax=base,color='red',lw=.5)\n"
   ]
  },
  {
   "cell_type": "markdown",
   "metadata": {
    "hidden": true
   },
   "source": [
    "## Extract data and compare resources"
   ]
  },
  {
   "cell_type": "code",
   "execution_count": null,
   "metadata": {
    "ExecuteTime": {
     "end_time": "2019-01-17T15:02:45.125874Z",
     "start_time": "2019-01-17T15:02:33.859852Z"
    },
    "hidden": true
   },
   "outputs": [],
   "source": [
    "# Extract resources for geometrical AOI:\n",
    "my_intersection = my_gpd.within(myPol.geometry.iloc[0])\n",
    "zone_ts = my_tsdf.loc[:,my_gpd[my_intersection].Coordinates].mean(axis=1)\n",
    "my_tsdf.loc[:,my_gpd[my_intersection].Coordinates].mean(axis=1).iloc[45:55]\n",
    "\n",
    "\n",
    "# Resource for its center:\n",
    "distance = my_gpd.geometry.apply(lambda x: myPol.distance(x))\n",
    "nearest_pt = my_gpd.iloc[distance.idxmin()]\n",
    "center_ts_u2 = my_tsdf[nearest_pt.Coordinates.iloc[0]]"
   ]
  },
  {
   "cell_type": "code",
   "execution_count": null,
   "metadata": {
    "ExecuteTime": {
     "end_time": "2019-01-17T15:02:45.360547Z",
     "start_time": "2019-01-17T15:02:45.127996Z"
    },
    "hidden": true
   },
   "outputs": [],
   "source": [
    "\n",
    "# Compare resources\n",
    "plt.figure(figsize=(14,8))\n",
    "plt.plot(zone_ts,label='Zone')\n",
    "plt.plot(center_ts_u2,label='Montpellier centre')\n",
    "plt.xlabel('Time of the day')\n",
    "plt.ylabel('Global horizontal irradiance (W/m$^2$)')\n",
    "plt.legend()"
   ]
  },
  {
   "cell_type": "markdown",
   "metadata": {
    "heading_collapsed": true
   },
   "source": [
    "# Usecase 3: Daily average per department"
   ]
  },
  {
   "cell_type": "markdown",
   "metadata": {
    "ExecuteTime": {
     "end_time": "2019-01-17T15:34:36.212049Z",
     "start_time": "2019-01-17T15:34:36.209670Z"
    },
    "heading_collapsed": true,
    "hidden": true
   },
   "source": [
    "## Calculate daily average"
   ]
  },
  {
   "cell_type": "code",
   "execution_count": null,
   "metadata": {
    "ExecuteTime": {
     "end_time": "2019-01-17T15:37:18.611222Z",
     "start_time": "2019-01-17T15:37:09.442027Z"
    },
    "hidden": true
   },
   "outputs": [],
   "source": [
    "my_geom = my_gpd.geometry\n",
    "plot_gpd = gpd.GeoDataFrame(my_tsdf.mean(0).transpose())\n",
    "plot_gpd.columns = ['GHI']\n",
    "plot_gpd = plot_gpd.reset_index()\n",
    "plot_gpd['geometry'] = my_geom\n",
    "\n",
    "base = plot_gpd.plot('GHI',figsize=(12,12))\n",
    "laFrance.boundary.plot(ax=base,color='black',lw=1)\n"
   ]
  },
  {
   "cell_type": "markdown",
   "metadata": {
    "heading_collapsed": true,
    "hidden": true
   },
   "source": [
    "## Aggregate data per department"
   ]
  },
  {
   "cell_type": "code",
   "execution_count": null,
   "metadata": {
    "ExecuteTime": {
     "end_time": "2019-01-17T15:50:29.078974Z",
     "start_time": "2019-01-17T15:49:09.358816Z"
    },
    "hidden": true
   },
   "outputs": [],
   "source": [
    "laFranceAverage = laFrance.copy()\n",
    "laFranceAverage['GHI_mean'] = 0\n",
    "for j,idx in enumerate(laFranceAverage.index):\n",
    "    dpt_intersec = my_gpd.within(laFranceAverage.loc[idx].geometry)\n",
    "    dpt_resources = my_tsdf.loc[:,my_gpd[dpt_intersec].Coordinates].mean().mean()\n",
    "    laFranceAverage.loc[idx,'GHI_mean'] = dpt_resources\n",
    "    print(j,end=', ')\n"
   ]
  },
  {
   "cell_type": "code",
   "execution_count": null,
   "metadata": {
    "ExecuteTime": {
     "end_time": "2019-01-17T15:51:54.363751Z",
     "start_time": "2019-01-17T15:51:54.082647Z"
    },
    "hidden": true
   },
   "outputs": [],
   "source": [
    "laFranceAverage.dropna().plot('GHI_mean',figsize=(12,12))"
   ]
  },
  {
   "cell_type": "code",
   "execution_count": null,
   "metadata": {
    "hidden": true
   },
   "outputs": [],
   "source": []
  }
 ],
 "metadata": {
  "kernelspec": {
   "display_name": "Python [default]",
   "language": "python",
   "name": "python3"
  },
  "language_info": {
   "codemirror_mode": {
    "name": "ipython",
    "version": 3
   },
   "file_extension": ".py",
   "mimetype": "text/x-python",
   "name": "python",
   "nbconvert_exporter": "python",
   "pygments_lexer": "ipython3",
   "version": "3.5.6"
  }
 },
 "nbformat": 4,
 "nbformat_minor": 2
}
